{
  "nbformat": 4,
  "nbformat_minor": 0,
  "metadata": {
    "colab": {
      "name": "Untitled1.ipynb",
      "provenance": [],
      "authorship_tag": "ABX9TyPzrgDXc9MZ6aO0J58QWbcT",
      "include_colab_link": true
    },
    "kernelspec": {
      "name": "python3",
      "display_name": "Python 3"
    }
  },
  "cells": [
    {
      "cell_type": "markdown",
      "metadata": {
        "id": "view-in-github",
        "colab_type": "text"
      },
      "source": [
        "<a href=\"https://colab.research.google.com/github/jjohnson12/cdc_wonder/blob/master/cdc_wonder.ipynb\" target=\"_parent\"><img src=\"https://colab.research.google.com/assets/colab-badge.svg\" alt=\"Open In Colab\"/></a>"
      ]
    },
    {
      "cell_type": "code",
      "metadata": {
        "id": "CCZYMCEZ4kxP",
        "colab_type": "code",
        "colab": {}
      },
      "source": [
        "# by-variables\" or those parameters selected in the \"Group Results By\" and the \"And By\" drop-down lists \n",
        "# in the \"Request Form.\" These \"by-variables\" are the cross-tabulations, stratifications or indexes \n",
        "# to the query results. Expect the results data table to show a row for each category in the by-variables, \n",
        "# and a column for each measure. For example, if you wish to compare data by sex, then \"group results by\" gender, \n",
        "# to get a row for females and a row for males in the output.\n",
        "# M_ are measures to return, the default measures plus any optional measures.\n",
        "\n",
        "# For this example, will group by year and race\n",
        "\n",
        "b_parameters = {\n",
        "    \"B_1\": \"D76.V1-level1\", \n",
        "    \"B_2\": \"D76.V8\", \n",
        "    \"B_3\": \"*None*\", \n",
        "    \"B_4\": \"*None*\", \n",
        "    \"B_5\": \"*None*\"\n",
        "}"
      ],
      "execution_count": 0,
      "outputs": []
    },
    {
      "cell_type": "code",
      "metadata": {
        "id": "e9taP6PL5tlc",
        "colab_type": "code",
        "colab": {}
      },
      "source": [
        "# measures to return, the default measures plus any optional measures\n",
        "\n",
        "# For this example, include deaths, population, and crude rate\n",
        "\n",
        "m_parameters = {\n",
        "    \"M_1\": \"D76.M1\",   # Deaths, must be included\n",
        "    \"M_2\": \"D76.M2\",   # Population, must be included\n",
        "    \"M_3\": \"D76.M3\",   # Crude rate, must be included\n",
        "    #\"M_31\": \"D76.M31\",        # Standard error (crude rate)\n",
        "    #\"M_32\": \"D76.M32\"         # 95% confidence interval (crude rate)\n",
        "    \"M_41\": \"D76.M41\", # Standard error (age-adjusted rate)\n",
        "    \"M_42\": \"D76.M42\"  # 95% confidence interval (age-adjusted rate)\n",
        "}"
      ],
      "execution_count": 0,
      "outputs": []
    },
    {
      "cell_type": "code",
      "metadata": {
        "id": "NQfmhghx5waz",
        "colab_type": "code",
        "colab": {}
      },
      "source": [
        "# values highlighted in a \"Finder\" control for hierarchical lists, \n",
        "# such as the \"Regions/Divisions/States/Counties hierarchical\" list.\n",
        "\n",
        "# For this example, include all years, months, census regions, hhs regions, states. Only include ICD-10 K00-K92\n",
        "# for disease of the digestive system\n",
        "\n",
        "f_parameters = {\n",
        "    \"F_D76.V1\": [\"*All*\"], # year/month\n",
        "    \"F_D76.V10\": [\"*All*\"], # Census Regions - dont change\n",
        "    \"F_D76.V2\": [\"K00-K92\"], # ICD-10 Codes\n",
        "    \"F_D76.V27\": [\"*All*\"], # HHS Regions - dont change\n",
        "    \"F_D76.V9\": [\"*All*\"] # State County - dont change\n",
        "}"
      ],
      "execution_count": 0,
      "outputs": []
    },
    {
      "cell_type": "code",
      "metadata": {
        "id": "nL2wv-xY50JK",
        "colab_type": "code",
        "colab": {}
      },
      "source": [
        "# contents of the \"Currently selected\" information areas next to \"Finder\" controls in the \"Request Form.\"\n",
        "\n",
        "# For this example, include all dates, census regions, hhs regions, and states.\n",
        "# Only include ICD-10 code K00-K92 for disease of the digestive system\n",
        "\n",
        "i_parameters = {\n",
        "    \"I_D76.V1\": \"*All* (All Dates)\",  # year/month\n",
        "    \"I_D76.V10\": \"*All* (The United States)\", # Census Regions - dont change\n",
        "    \"I_D76.V2\": \"K00-K92 (Diseases of the digestive system)\", # ICD-10 Codes\n",
        "    \"I_D76.V27\": \"*All* (The United States)\", # HHS Regions - dont change\n",
        "    \"I_D76.V9\": \"*All* (The United States)\" # State County - dont change\n",
        "}"
      ],
      "execution_count": 0,
      "outputs": []
    },
    {
      "cell_type": "code",
      "metadata": {
        "id": "HadqrfSd53Qs",
        "colab_type": "code",
        "colab": {}
      },
      "source": [
        "# variable values to limit in the \"where\" clause of the query, found in multiple select \n",
        "# list boxes and advanced finder text entry boxes in the \"Request Form.\"\n",
        "\n",
        "# For this example, we want to include ten-year age groups for ages 15-44.\n",
        "# For all other categories, include all values\n",
        "\n",
        "v_parameters = {\n",
        "    \"V_D76.V1\": \"\",         # Year/Month\n",
        "    \"V_D76.V10\": \"\",        # Census Regions\n",
        "    \"V_D76.V11\": \"*All*\",   # 2006 Urbanization\n",
        "    \"V_D76.V12\": \"*All*\",   # ICD-10 130 Cause List (Infants)\n",
        "    \"V_D76.V17\": \"*All*\",   # Hispanic Origin\n",
        "    \"V_D76.V19\": \"*All*\",   # 2013 Urbanization\n",
        "    \"V_D76.V2\": \"\",         # ICD-10 Codes\n",
        "    \"V_D76.V20\": \"*All*\",   # Autopsy\n",
        "    \"V_D76.V21\": \"*All*\",   # Place of Death\n",
        "    \"V_D76.V22\": \"*All*\",   # Injury Intent\n",
        "    \"V_D76.V23\": \"*All*\",   # Injury Mechanism and All Other Leading Causes\n",
        "    \"V_D76.V24\": \"*All*\",   # Weekday\n",
        "    \"V_D76.V25\": \"*All*\",   # Drug/Alcohol Induced Causes\n",
        "    \"V_D76.V27\": \"\",        # HHS Regions\n",
        "    \"V_D76.V4\": \"*All*\",    # ICD-10 113 Cause List\n",
        "    \"V_D76.V5\": [\"15-24\", \"25-34\", \"35-44\"], # Ten-Year Age Groups\n",
        "    \"V_D76.V51\": \"*All*\",   # Five-Year Age Groups\n",
        "    \"V_D76.V52\": \"*All*\",   # Single-Year Ages\n",
        "    \"V_D76.V6\": \"00\",       # Infant Age Groups\n",
        "    \"V_D76.V7\": \"*All*\",    # Gender\n",
        "    \"V_D76.V8\": \"*All*\",    # Race\n",
        "    \"V_D76.V9\": \"\"          # State/County\n",
        "}"
      ],
      "execution_count": 0,
      "outputs": []
    },
    {
      "cell_type": "code",
      "metadata": {
        "id": "mxQNVGLM556K",
        "colab_type": "code",
        "colab": {}
      },
      "source": [
        "\n",
        "# For this example, include age-adjusted rates, use ten-year age groups (D76.V5), use state location by default, \n",
        "# show rates per 100,000, use 2013 urbanization and use ICD-10 Codes (D76.V2) for cause of death category\n",
        "\n",
        "o_parameters = {\n",
        "    \"O_V10_fmode\": \"freg\",    # Use regular finder and ignore v parameter value\n",
        "    \"O_V1_fmode\": \"freg\",     # Use regular finder and ignore v parameter value\n",
        "    \"O_V27_fmode\": \"freg\",    # Use regular finder and ignore v parameter value\n",
        "    \"O_V2_fmode\": \"freg\",     # Use regular finder and ignore v parameter value\n",
        "    \"O_V9_fmode\": \"freg\",     # Use regular finder and ignore v parameter value\n",
        "    \"O_aar\": \"aar_std\",       # age-adjusted rates\n",
        "    \"O_aar_pop\": \"0000\",      # population selection for age-adjusted rates\n",
        "    \"O_age\": \"D76.V5\",        # select age-group (e.g. ten-year, five-year, single-year, infant groups)\n",
        "    \"O_javascript\": \"on\",     # Set to on by default\n",
        "    \"O_location\": \"D76.V9\",   # select location variable to use (e.g. state/county, census, hhs regions)\n",
        "    \"O_precision\": \"1\",       # decimal places\n",
        "    \"O_rate_per\": \"100000\",   # rates calculated per X persons\n",
        "    \"O_show_totals\": \"false\",  # Show totals for \n",
        "    \"O_timeout\": \"300\",\n",
        "    \"O_title\": \"Digestive Disease Deaths, by Age Group\",    # title for data run\n",
        "    \"O_ucd\": \"D76.V2\",        # select underlying cause of death category\n",
        "    \"O_urban\": \"D76.V19\"      # select urbanization category\n",
        "}"
      ],
      "execution_count": 0,
      "outputs": []
    },
    {
      "cell_type": "code",
      "metadata": {
        "id": "v0ZLMQuz57zR",
        "colab_type": "code",
        "colab": {}
      },
      "source": [
        "# values for non-standard age adjusted rates (see mortality online databases).\n",
        "\n",
        "# For this example, these parameters are ignored as standard age adjusted rates are used\n",
        "\n",
        "vm_parameters = {\n",
        "    \"VM_D76.M6_D76.V10\": \"\",        # Location\n",
        "    \"VM_D76.M6_D76.V17\": \"*All*\",   # Hispanic-Origin\n",
        "    \"VM_D76.M6_D76.V1_S\": \"*All*\",  # Year\n",
        "    \"VM_D76.M6_D76.V7\": \"*All*\",    # Gender\n",
        "    \"VM_D76.M6_D76.V8\": \"*All*\"     # Race\n",
        "}"
      ],
      "execution_count": 0,
      "outputs": []
    },
    {
      "cell_type": "code",
      "metadata": {
        "id": "gFIRZ-tq591Y",
        "colab_type": "code",
        "colab": {}
      },
      "source": [
        "# Miscellaneous hidden inputs/parameters usually passed by web form. These do not change.\n",
        "misc_parameters = {\n",
        "    \"action-Send\": \"Send\",\n",
        "    \"finder-stage-D76.V1\": \"codeset\",\n",
        "    \"finder-stage-D76.V1\": \"codeset\",\n",
        "    \"finder-stage-D76.V2\": \"codeset\",\n",
        "    \"finder-stage-D76.V27\": \"codeset\",\n",
        "    \"finder-stage-D76.V9\": \"codeset\",\n",
        "    \"stage\": \"request\"\n",
        "}"
      ],
      "execution_count": 0,
      "outputs": []
    },
    {
      "cell_type": "code",
      "metadata": {
        "id": "TB5qAWuu5-ja",
        "colab_type": "code",
        "colab": {}
      },
      "source": [
        "def createParameterList(parameterList):\n",
        "    \"\"\"Helper function to create a parameter list from a dictionary object\"\"\"\n",
        "    \n",
        "    parameterString = \"\"\n",
        "    \n",
        "    for key in parameterList:\n",
        "        parameterString += \"<parameter>\\n\"\n",
        "        parameterString += \"<name>\" + key + \"</name>\\n\"\n",
        "        \n",
        "        if isinstance(parameterList[key], list):\n",
        "            for value in parameterList[key]:\n",
        "                parameterString += \"<value>\" + value + \"</value>\\n\"\n",
        "        else:\n",
        "            parameterString += \"<value>\" + parameterList[key] + \"</value>\\n\"\n",
        "        \n",
        "        parameterString += \"</parameter>\\n\"\n",
        "        \n",
        "    return parameterString"
      ],
      "execution_count": 0,
      "outputs": []
    },
    {
      "cell_type": "code",
      "metadata": {
        "id": "bTwJexac6IOM",
        "colab_type": "code",
        "colab": {}
      },
      "source": [
        "xml_request = \"<request-parameters>\\n\"\n",
        "xml_request += createParameterList(b_parameters)\n",
        "xml_request += createParameterList(m_parameters)\n",
        "xml_request += createParameterList(f_parameters)\n",
        "xml_request += createParameterList(i_parameters)\n",
        "xml_request += createParameterList(o_parameters)\n",
        "xml_request += createParameterList(vm_parameters)\n",
        "xml_request += createParameterList(v_parameters)\n",
        "xml_request += createParameterList(misc_parameters)\n",
        "xml_request += \"</request-parameters>\""
      ],
      "execution_count": 0,
      "outputs": []
    },
    {
      "cell_type": "code",
      "metadata": {
        "id": "KX-i5OQx6Max",
        "colab_type": "code",
        "colab": {}
      },
      "source": [
        "import requests\n",
        "\n",
        "url = \"https://wonder.cdc.gov/controller/datarequest/D76\"\n",
        "response = requests.post(url, data={\"request_xml\": xml_request, \"accept_datause_restrictions\": \"true\"})\n",
        "\n",
        "if response.status_code == 200:\n",
        "    data = response.text\n",
        "else:\n",
        "    print(\"something went wrong\")"
      ],
      "execution_count": 0,
      "outputs": []
    },
    {
      "cell_type": "code",
      "metadata": {
        "id": "1-jSywc26Rcx",
        "colab_type": "code",
        "colab": {}
      },
      "source": [
        "# BeautifulSoup library facilitates parsing of XML response\n",
        "import bs4 as bs\n",
        "\n",
        "# This library faciliates 2-dimensional array operations and visualization\n",
        "import pandas as pd"
      ],
      "execution_count": 0,
      "outputs": []
    },
    {
      "cell_type": "code",
      "metadata": {
        "id": "dZ6fhtFM6TMw",
        "colab_type": "code",
        "colab": {}
      },
      "source": [
        "def xml2df(xml_data):\n",
        "    \"\"\" This function grabs the root of the XML document and iterates over\n",
        "        the 'r' (row) and 'c' (column) tags of the data-table\n",
        "        Rows with a 'v' attribute contain a numerical value\n",
        "        Rows with a 'l attribute contain a text label and may contain an\n",
        "        additional 'r' (rowspan) tag which identifies how many rows the value\n",
        "        should be added. If present, that label will be added to the following\n",
        "        rows of the data table.\n",
        "    \n",
        "        Function returns a two-dimensional array or data frame that may be \n",
        "        used by the pandas library.\"\"\"\n",
        "    \n",
        "    root = bs.BeautifulSoup(xml_data,\"lxml\")\n",
        "    all_records = []\n",
        "    row_number = 0\n",
        "    rows = root.find_all(\"r\")\n",
        "    \n",
        "    for row in rows:\n",
        "        if row_number >= len(all_records):\n",
        "            all_records.append([])\n",
        "              \n",
        "        for cell in row.find_all(\"c\"):\n",
        "            if 'v' in cell.attrs:\n",
        "                try:\n",
        "                    all_records[row_number].append(float(cell.attrs[\"v\"].replace(',','')))\n",
        "                except ValueError:\n",
        "                    all_records[row_number].append(cell.attrs[\"v\"])\n",
        "            else:\n",
        "                if 'r' not in cell.attrs:\n",
        "                    all_records[row_number].append(cell.attrs[\"l\"])\n",
        "                else:\n",
        "                \n",
        "                    for row_index in range(int(cell.attrs[\"r\"])):\n",
        "                        if (row_number + row_index) >= len(all_records):\n",
        "                            all_records.append([])\n",
        "                            all_records[row_number + row_index].append(cell.attrs[\"l\"])\n",
        "                        else:\n",
        "                            all_records[row_number + row_index].append(cell.attrs[\"l\"])\n",
        "                                           \n",
        "        row_number += 1\n",
        "    return all_records"
      ],
      "execution_count": 0,
      "outputs": []
    },
    {
      "cell_type": "code",
      "metadata": {
        "id": "kkFd__9q6hkG",
        "colab_type": "code",
        "colab": {
          "base_uri": "https://localhost:8080/",
          "height": 204
        },
        "outputId": "2d47c551-9c36-49e1-9f3a-3c2bd5b59142"
      },
      "source": [
        "data_frame = xml2df(data)\n",
        "\n",
        "df = pd.DataFrame(data=data_frame, columns=[\"Year\", \"Race\", \"Deaths\", \"Population\", \"Crude Rate\", \"Age-adjusted Rate\", \"Age-adjusted Rate Standard Error\"])\n",
        "\n",
        "df.head()"
      ],
      "execution_count": 16,
      "outputs": [
        {
          "output_type": "execute_result",
          "data": {
            "text/html": [
              "<div>\n",
              "<style scoped>\n",
              "    .dataframe tbody tr th:only-of-type {\n",
              "        vertical-align: middle;\n",
              "    }\n",
              "\n",
              "    .dataframe tbody tr th {\n",
              "        vertical-align: top;\n",
              "    }\n",
              "\n",
              "    .dataframe thead th {\n",
              "        text-align: right;\n",
              "    }\n",
              "</style>\n",
              "<table border=\"1\" class=\"dataframe\">\n",
              "  <thead>\n",
              "    <tr style=\"text-align: right;\">\n",
              "      <th></th>\n",
              "      <th>Year</th>\n",
              "      <th>Race</th>\n",
              "      <th>Deaths</th>\n",
              "      <th>Population</th>\n",
              "      <th>Crude Rate</th>\n",
              "      <th>Age-adjusted Rate</th>\n",
              "      <th>Age-adjusted Rate Standard Error</th>\n",
              "    </tr>\n",
              "  </thead>\n",
              "  <tbody>\n",
              "    <tr>\n",
              "      <th>0</th>\n",
              "      <td>1999</td>\n",
              "      <td>American Indian or Alaska Native</td>\n",
              "      <td>210.0</td>\n",
              "      <td>1375207.0</td>\n",
              "      <td>15.3</td>\n",
              "      <td>17.2</td>\n",
              "      <td>1.2</td>\n",
              "    </tr>\n",
              "    <tr>\n",
              "      <th>1</th>\n",
              "      <td>1999</td>\n",
              "      <td>Asian or Pacific Islander</td>\n",
              "      <td>73.0</td>\n",
              "      <td>5813970.0</td>\n",
              "      <td>1.3</td>\n",
              "      <td>1.3</td>\n",
              "      <td>0.2</td>\n",
              "    </tr>\n",
              "    <tr>\n",
              "      <th>2</th>\n",
              "      <td>1999</td>\n",
              "      <td>Black or African American</td>\n",
              "      <td>1176.0</td>\n",
              "      <td>17026405.0</td>\n",
              "      <td>6.9</td>\n",
              "      <td>7.4</td>\n",
              "      <td>0.2</td>\n",
              "    </tr>\n",
              "    <tr>\n",
              "      <th>3</th>\n",
              "      <td>1999</td>\n",
              "      <td>White</td>\n",
              "      <td>5067.0</td>\n",
              "      <td>99715532.0</td>\n",
              "      <td>5.1</td>\n",
              "      <td>5.1</td>\n",
              "      <td>0.1</td>\n",
              "    </tr>\n",
              "    <tr>\n",
              "      <th>4</th>\n",
              "      <td>2000</td>\n",
              "      <td>American Indian or Alaska Native</td>\n",
              "      <td>213.0</td>\n",
              "      <td>1438695.0</td>\n",
              "      <td>14.8</td>\n",
              "      <td>16.4</td>\n",
              "      <td>1.1</td>\n",
              "    </tr>\n",
              "  </tbody>\n",
              "</table>\n",
              "</div>"
            ],
            "text/plain": [
              "   Year  ... Age-adjusted Rate Standard Error\n",
              "0  1999  ...                              1.2\n",
              "1  1999  ...                              0.2\n",
              "2  1999  ...                              0.2\n",
              "3  1999  ...                              0.1\n",
              "4  2000  ...                              1.1\n",
              "\n",
              "[5 rows x 7 columns]"
            ]
          },
          "metadata": {
            "tags": []
          },
          "execution_count": 16
        }
      ]
    },
    {
      "cell_type": "code",
      "metadata": {
        "id": "cvRwIkKC6kdj",
        "colab_type": "code",
        "colab": {
          "base_uri": "https://localhost:8080/",
          "height": 567
        },
        "outputId": "580f266e-aab9-4690-a63a-d927d47aea45"
      },
      "source": [
        "# Load matplotlib for plotting and instruct jupyter to display figures inline\n",
        "from matplotlib import pyplot as plt\n",
        "%matplotlib inline\n",
        "\n",
        "# Group total number of deaths by year\n",
        "df.groupby(by=['Year']).sum()['Deaths'].plot(title='Deaths from Digestive Disease: United States');\n",
        "fig = plt.gcf()\n",
        "fig.set_size_inches(16, 9)"
      ],
      "execution_count": 17,
      "outputs": [
        {
          "output_type": "display_data",
          "data": {
            "image/png": "[encoded data removed]",
            "text/plain": [
              "<Figure size 1152x648 with 1 Axes>"
            ]
          },
          "metadata": {
            "tags": []
          }
        }
      ]
    },
    {
      "cell_type": "code",
      "metadata": {
        "id": "SQkja-826npS",
        "colab_type": "code",
        "colab": {
          "base_uri": "https://localhost:8080/",
          "height": 567
        },
        "outputId": "252a5910-cb9b-4f30-8cb8-f71e3c01d77c"
      },
      "source": [
        "# Store figure and axis for shared plot\n",
        "fig, ax = plt.subplots()\n",
        "\n",
        "# Store labels for all race groups\n",
        "labels = []\n",
        "\n",
        "# For each group in the groupby object, grab the 'Race' label and create a line plot for it\n",
        "for key, grp in df.groupby(['Race']):\n",
        "    ax = grp.plot(ax=ax, kind='line', x='Year', y='Deaths')\n",
        "    labels.append(key)\n",
        "\n",
        "# Set the labels for each line using the group labels\n",
        "lines, _ = ax.get_legend_handles_labels()\n",
        "ax.legend(lines, labels, loc='best')\n",
        "\n",
        "# Configure chart size and title\n",
        "fig = plt.gcf()\n",
        "fig.set_size_inches(16, 9)\n",
        "plt.title(\"Deaths from Digestive Disease, by Race: United States\");"
      ],
      "execution_count": 18,
      "outputs": [
        {
          "output_type": "display_data",
          "data": {
            "image/png": "[encoded data removed]",
            "text/plain": [
              "<Figure size 1152x648 with 1 Axes>"
            ]
          },
          "metadata": {
            "tags": []
          }
        }
      ]
    },
    {
      "cell_type": "code",
      "metadata": {
        "id": "w5He6xfd6wj5",
        "colab_type": "code",
        "colab": {}
      },
      "source": [
        "# New query, this time we wish to group by year, month, and cause of death\n",
        "\n",
        "b_parameters = {\n",
        "    \"B_1\": \"D76.V1-level1\", # Year\n",
        "    \"B_2\": \"D76.V1-level2\", # Month \n",
        "    \"B_3\": \"D76.V2-level3 \",# Cause of death \n",
        "    \"B_4\": \"*None*\", \n",
        "    \"B_5\": \"*None*\"\n",
        "}\n",
        "\n",
        "f_parameters = {\n",
        "    \"F_D76.V1\": [\"*All*\"], # year/month\n",
        "    \"F_D76.V10\": [\"*All*\"], # Census Regions - dont change\n",
        "    #\"F_D76.V2\": [\"X40\",\"X41\",\"X42\",\"X43\",\"X44\",\"X60\",\"X61\",\"X62\",\"X63\",\"X64\",\"X85\",\"Y10\",\"Y11\",\"Y12\",\"Y13\",\"Y14\"], \n",
        "        # ICD-10 Codes - Drug overdose deaths are identified using ICD–10 underlying cause-of-death codes: \n",
        "        # X40–X44, X60–X64, X85, and Y10–Y14.\n",
        "    \"F_D76.V2\": [\"C71.9\"],   \n",
        "    # ICD-10 Codes - Glioblastoma is identified using ICD–10 underlying cause-of-death codes: \n",
        "        # C71.9. \n",
        "    \"F_D76.V27\": [\"*All*\"], # HHS Regions - dont change\n",
        "    \"F_D76.V9\": [\"*All*\"] # State County - dont change\n",
        "}\n",
        "\n",
        "v_parameters[\"V_D76.V5\"] = \"*All*\""
      ],
      "execution_count": 0,
      "outputs": []
    },
    {
      "cell_type": "code",
      "metadata": {
        "id": "G5vAjcyu61k6",
        "colab_type": "code",
        "colab": {}
      },
      "source": [
        "xml_request = \"<request-parameters>\\n\"\n",
        "xml_request += createParameterList(b_parameters)\n",
        "xml_request += createParameterList(m_parameters)\n",
        "xml_request += createParameterList(f_parameters)\n",
        "xml_request += createParameterList(i_parameters)\n",
        "xml_request += createParameterList(o_parameters)\n",
        "xml_request += createParameterList(vm_parameters)\n",
        "xml_request += createParameterList(v_parameters)\n",
        "xml_request += createParameterList(misc_parameters)\n",
        "xml_request += \"</request-parameters>\""
      ],
      "execution_count": 0,
      "outputs": []
    },
    {
      "cell_type": "code",
      "metadata": {
        "id": "aWweMP3y65Fh",
        "colab_type": "code",
        "colab": {}
      },
      "source": [
        "url = \"https://wonder.cdc.gov/controller/datarequest/D76\"\n",
        "response = requests.post(url, data={\"request_xml\": xml_request, \"accept_datause_restrictions\": \"true\"})\n",
        "\n",
        "if response.status_code == 200:\n",
        "    data = response.text\n",
        "else:\n",
        "    print(\"something went wrong\")"
      ],
      "execution_count": 0,
      "outputs": []
    },
    {
      "cell_type": "code",
      "metadata": {
        "id": "RXhfRMHf68YS",
        "colab_type": "code",
        "colab": {
          "base_uri": "https://localhost:8080/",
          "height": 419
        },
        "outputId": "a41f74ea-41ec-4ea4-99da-7a6efe7c7d13"
      },
      "source": [
        "data_frame = xml2df(data)\n",
        "\n",
        "df = pd.DataFrame(data=data_frame, columns=[\"Year\", \"Month\", \"Cause of Death\", \"Deaths\", \"Population\", \"Crude Rate\", \"Age-adjusted Rate\", \"Age-adjusted Rate Standard Error\"])\n",
        "\n",
        "df"
      ],
      "execution_count": 32,
      "outputs": [
        {
          "output_type": "execute_result",
          "data": {
            "text/html": [
              "<div>\n",
              "<style scoped>\n",
              "    .dataframe tbody tr th:only-of-type {\n",
              "        vertical-align: middle;\n",
              "    }\n",
              "\n",
              "    .dataframe tbody tr th {\n",
              "        vertical-align: top;\n",
              "    }\n",
              "\n",
              "    .dataframe thead th {\n",
              "        text-align: right;\n",
              "    }\n",
              "</style>\n",
              "<table border=\"1\" class=\"dataframe\">\n",
              "  <thead>\n",
              "    <tr style=\"text-align: right;\">\n",
              "      <th></th>\n",
              "      <th>Year</th>\n",
              "      <th>Month</th>\n",
              "      <th>Cause of Death</th>\n",
              "      <th>Deaths</th>\n",
              "      <th>Population</th>\n",
              "      <th>Crude Rate</th>\n",
              "      <th>Age-adjusted Rate</th>\n",
              "      <th>Age-adjusted Rate Standard Error</th>\n",
              "    </tr>\n",
              "  </thead>\n",
              "  <tbody>\n",
              "    <tr>\n",
              "      <th>0</th>\n",
              "      <td>1999</td>\n",
              "      <td>Jan., 1999</td>\n",
              "      <td>Brain, unspecified - Malignant neoplasms</td>\n",
              "      <td>973.0</td>\n",
              "      <td>Not Applicable</td>\n",
              "      <td>Not Applicable</td>\n",
              "      <td>Not Applicable</td>\n",
              "      <td>Not Applicable</td>\n",
              "    </tr>\n",
              "    <tr>\n",
              "      <th>1</th>\n",
              "      <td>1999</td>\n",
              "      <td>Feb., 1999</td>\n",
              "      <td>Brain, unspecified - Malignant neoplasms</td>\n",
              "      <td>876.0</td>\n",
              "      <td>Not Applicable</td>\n",
              "      <td>Not Applicable</td>\n",
              "      <td>Not Applicable</td>\n",
              "      <td>Not Applicable</td>\n",
              "    </tr>\n",
              "    <tr>\n",
              "      <th>2</th>\n",
              "      <td>1999</td>\n",
              "      <td>Mar., 1999</td>\n",
              "      <td>Brain, unspecified - Malignant neoplasms</td>\n",
              "      <td>1026.0</td>\n",
              "      <td>Not Applicable</td>\n",
              "      <td>Not Applicable</td>\n",
              "      <td>Not Applicable</td>\n",
              "      <td>Not Applicable</td>\n",
              "    </tr>\n",
              "    <tr>\n",
              "      <th>3</th>\n",
              "      <td>1999</td>\n",
              "      <td>Apr., 1999</td>\n",
              "      <td>Brain, unspecified - Malignant neoplasms</td>\n",
              "      <td>891.0</td>\n",
              "      <td>Not Applicable</td>\n",
              "      <td>Not Applicable</td>\n",
              "      <td>Not Applicable</td>\n",
              "      <td>Not Applicable</td>\n",
              "    </tr>\n",
              "    <tr>\n",
              "      <th>4</th>\n",
              "      <td>1999</td>\n",
              "      <td>May, 1999</td>\n",
              "      <td>Brain, unspecified - Malignant neoplasms</td>\n",
              "      <td>983.0</td>\n",
              "      <td>Not Applicable</td>\n",
              "      <td>Not Applicable</td>\n",
              "      <td>Not Applicable</td>\n",
              "      <td>Not Applicable</td>\n",
              "    </tr>\n",
              "    <tr>\n",
              "      <th>...</th>\n",
              "      <td>...</td>\n",
              "      <td>...</td>\n",
              "      <td>...</td>\n",
              "      <td>...</td>\n",
              "      <td>...</td>\n",
              "      <td>...</td>\n",
              "      <td>...</td>\n",
              "      <td>...</td>\n",
              "    </tr>\n",
              "    <tr>\n",
              "      <th>235</th>\n",
              "      <td>2018</td>\n",
              "      <td>Aug., 2018</td>\n",
              "      <td>Brain, unspecified - Malignant neoplasms</td>\n",
              "      <td>1336.0</td>\n",
              "      <td>Not Applicable</td>\n",
              "      <td>Not Applicable</td>\n",
              "      <td>Not Applicable</td>\n",
              "      <td>Not Applicable</td>\n",
              "    </tr>\n",
              "    <tr>\n",
              "      <th>236</th>\n",
              "      <td>2018</td>\n",
              "      <td>Sep., 2018</td>\n",
              "      <td>Brain, unspecified - Malignant neoplasms</td>\n",
              "      <td>1276.0</td>\n",
              "      <td>Not Applicable</td>\n",
              "      <td>Not Applicable</td>\n",
              "      <td>Not Applicable</td>\n",
              "      <td>Not Applicable</td>\n",
              "    </tr>\n",
              "    <tr>\n",
              "      <th>237</th>\n",
              "      <td>2018</td>\n",
              "      <td>Oct., 2018</td>\n",
              "      <td>Brain, unspecified - Malignant neoplasms</td>\n",
              "      <td>1319.0</td>\n",
              "      <td>Not Applicable</td>\n",
              "      <td>Not Applicable</td>\n",
              "      <td>Not Applicable</td>\n",
              "      <td>Not Applicable</td>\n",
              "    </tr>\n",
              "    <tr>\n",
              "      <th>238</th>\n",
              "      <td>2018</td>\n",
              "      <td>Nov., 2018</td>\n",
              "      <td>Brain, unspecified - Malignant neoplasms</td>\n",
              "      <td>1329.0</td>\n",
              "      <td>Not Applicable</td>\n",
              "      <td>Not Applicable</td>\n",
              "      <td>Not Applicable</td>\n",
              "      <td>Not Applicable</td>\n",
              "    </tr>\n",
              "    <tr>\n",
              "      <th>239</th>\n",
              "      <td>2018</td>\n",
              "      <td>Dec., 2018</td>\n",
              "      <td>Brain, unspecified - Malignant neoplasms</td>\n",
              "      <td>1271.0</td>\n",
              "      <td>Not Applicable</td>\n",
              "      <td>Not Applicable</td>\n",
              "      <td>Not Applicable</td>\n",
              "      <td>Not Applicable</td>\n",
              "    </tr>\n",
              "  </tbody>\n",
              "</table>\n",
              "<p>240 rows × 8 columns</p>\n",
              "</div>"
            ],
            "text/plain": [
              "     Year       Month  ... Age-adjusted Rate  Age-adjusted Rate Standard Error\n",
              "0    1999  Jan., 1999  ...    Not Applicable                    Not Applicable\n",
              "1    1999  Feb., 1999  ...    Not Applicable                    Not Applicable\n",
              "2    1999  Mar., 1999  ...    Not Applicable                    Not Applicable\n",
              "3    1999  Apr., 1999  ...    Not Applicable                    Not Applicable\n",
              "4    1999   May, 1999  ...    Not Applicable                    Not Applicable\n",
              "..    ...         ...  ...               ...                               ...\n",
              "235  2018  Aug., 2018  ...    Not Applicable                    Not Applicable\n",
              "236  2018  Sep., 2018  ...    Not Applicable                    Not Applicable\n",
              "237  2018  Oct., 2018  ...    Not Applicable                    Not Applicable\n",
              "238  2018  Nov., 2018  ...    Not Applicable                    Not Applicable\n",
              "239  2018  Dec., 2018  ...    Not Applicable                    Not Applicable\n",
              "\n",
              "[240 rows x 8 columns]"
            ]
          },
          "metadata": {
            "tags": []
          },
          "execution_count": 32
        }
      ]
    },
    {
      "cell_type": "code",
      "metadata": {
        "id": "FErbIAp17Pjy",
        "colab_type": "code",
        "colab": {
          "base_uri": "https://localhost:8080/",
          "height": 700
        },
        "outputId": "34dcbf2c-a72d-4470-817a-89dc7264e38a"
      },
      "source": [
        "df.groupby(by='Year').sum()"
      ],
      "execution_count": 34,
      "outputs": [
        {
          "output_type": "execute_result",
          "data": {
            "text/html": [
              "<div>\n",
              "<style scoped>\n",
              "    .dataframe tbody tr th:only-of-type {\n",
              "        vertical-align: middle;\n",
              "    }\n",
              "\n",
              "    .dataframe tbody tr th {\n",
              "        vertical-align: top;\n",
              "    }\n",
              "\n",
              "    .dataframe thead th {\n",
              "        text-align: right;\n",
              "    }\n",
              "</style>\n",
              "<table border=\"1\" class=\"dataframe\">\n",
              "  <thead>\n",
              "    <tr style=\"text-align: right;\">\n",
              "      <th></th>\n",
              "      <th>Deaths</th>\n",
              "    </tr>\n",
              "    <tr>\n",
              "      <th>Year</th>\n",
              "      <th></th>\n",
              "    </tr>\n",
              "  </thead>\n",
              "  <tbody>\n",
              "    <tr>\n",
              "      <th>1999</th>\n",
              "      <td>11459.0</td>\n",
              "    </tr>\n",
              "    <tr>\n",
              "      <th>2000</th>\n",
              "      <td>11447.0</td>\n",
              "    </tr>\n",
              "    <tr>\n",
              "      <th>2001</th>\n",
              "      <td>11406.0</td>\n",
              "    </tr>\n",
              "    <tr>\n",
              "      <th>2002</th>\n",
              "      <td>11609.0</td>\n",
              "    </tr>\n",
              "    <tr>\n",
              "      <th>2003</th>\n",
              "      <td>11771.0</td>\n",
              "    </tr>\n",
              "    <tr>\n",
              "      <th>2004</th>\n",
              "      <td>11717.0</td>\n",
              "    </tr>\n",
              "    <tr>\n",
              "      <th>2005</th>\n",
              "      <td>12072.0</td>\n",
              "    </tr>\n",
              "    <tr>\n",
              "      <th>2006</th>\n",
              "      <td>11834.0</td>\n",
              "    </tr>\n",
              "    <tr>\n",
              "      <th>2007</th>\n",
              "      <td>12233.0</td>\n",
              "    </tr>\n",
              "    <tr>\n",
              "      <th>2008</th>\n",
              "      <td>12697.0</td>\n",
              "    </tr>\n",
              "    <tr>\n",
              "      <th>2009</th>\n",
              "      <td>13111.0</td>\n",
              "    </tr>\n",
              "    <tr>\n",
              "      <th>2010</th>\n",
              "      <td>13196.0</td>\n",
              "    </tr>\n",
              "    <tr>\n",
              "      <th>2011</th>\n",
              "      <td>13492.0</td>\n",
              "    </tr>\n",
              "    <tr>\n",
              "      <th>2012</th>\n",
              "      <td>14246.0</td>\n",
              "    </tr>\n",
              "    <tr>\n",
              "      <th>2013</th>\n",
              "      <td>14279.0</td>\n",
              "    </tr>\n",
              "    <tr>\n",
              "      <th>2014</th>\n",
              "      <td>14881.0</td>\n",
              "    </tr>\n",
              "    <tr>\n",
              "      <th>2015</th>\n",
              "      <td>15015.0</td>\n",
              "    </tr>\n",
              "    <tr>\n",
              "      <th>2016</th>\n",
              "      <td>15282.0</td>\n",
              "    </tr>\n",
              "    <tr>\n",
              "      <th>2017</th>\n",
              "      <td>15240.0</td>\n",
              "    </tr>\n",
              "    <tr>\n",
              "      <th>2018</th>\n",
              "      <td>15357.0</td>\n",
              "    </tr>\n",
              "  </tbody>\n",
              "</table>\n",
              "</div>"
            ],
            "text/plain": [
              "       Deaths\n",
              "Year         \n",
              "1999  11459.0\n",
              "2000  11447.0\n",
              "2001  11406.0\n",
              "2002  11609.0\n",
              "2003  11771.0\n",
              "2004  11717.0\n",
              "2005  12072.0\n",
              "2006  11834.0\n",
              "2007  12233.0\n",
              "2008  12697.0\n",
              "2009  13111.0\n",
              "2010  13196.0\n",
              "2011  13492.0\n",
              "2012  14246.0\n",
              "2013  14279.0\n",
              "2014  14881.0\n",
              "2015  15015.0\n",
              "2016  15282.0\n",
              "2017  15240.0\n",
              "2018  15357.0"
            ]
          },
          "metadata": {
            "tags": []
          },
          "execution_count": 34
        }
      ]
    },
    {
      "cell_type": "code",
      "metadata": {
        "id": "oQagU9eT8Z63",
        "colab_type": "code",
        "colab": {
          "base_uri": "https://localhost:8080/",
          "height": 567
        },
        "outputId": "3f67fe57-c29e-4ac3-dde0-10ffaf13ed24"
      },
      "source": [
        "df_groups = df.groupby(by=['Year','Cause of Death'],as_index=False).sum()\n",
        "df_pivot = df_groups.pivot(index='Year',columns='Cause of Death',values='Deaths')\n",
        "\n",
        "ax = df_pivot.plot.area(title='Glioblastoma deaths: United States')\n",
        "legend_labels = [\"C71.9\"]\n",
        "ax.legend(legend_labels);\n",
        "ax.set_ylabel(\"Deaths\")\n",
        "fig = plt.gcf()\n",
        "fig.set_size_inches(16,9)"
      ],
      "execution_count": 36,
      "outputs": [
        {
          "output_type": "display_data",
          "data": {
            "image/png": "[encoded data removed]",
            "text/plain": [
              "<Figure size 1152x648 with 1 Axes>"
            ]
          },
          "metadata": {
            "tags": []
          }
        }
      ]
    }
  ]
}